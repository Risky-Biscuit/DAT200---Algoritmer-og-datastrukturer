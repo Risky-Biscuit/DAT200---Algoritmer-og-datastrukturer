{
  "cells": [
    {
      "cell_type": "markdown",
      "metadata": {
        "id": "lRW-8EDMZcV6"
      },
      "source": [
        "# Assignment #5\n"
      ]
    },
    {
      "cell_type": "markdown",
      "metadata": {
        "id": "Nb-XeviMvyP7"
      },
      "source": [
        "Hash Tables in Python\n",
        "\n",
        "\n",
        "In this assignment, you will create Python dictionaries from scratch using a data structure called hash table. For example, here's a dictionary for storing and retrieving phone numbers using people's numbers."
      ]
    },
    {
      "cell_type": "code",
      "execution_count": 13,
      "metadata": {
        "colab": {
          "base_uri": "https://localhost:8080/"
        },
        "id": "3NybY89AvwAw",
        "outputId": "80b3bca1-688a-4127-c6bd-a685e53ba918"
      },
      "outputs": [
        {
          "data": {
            "text/plain": [
              "{'3316412003': 'Waqar Bilal',\n",
              " '3033226026': 'Hamza Zia',\n",
              " '3032217073': 'Abid Zahid'}"
            ]
          },
          "execution_count": 13,
          "metadata": {},
          "output_type": "execute_result"
        }
      ],
      "source": [
        "\n",
        "phone_numbers = {\n",
        "  '3316412003': 'Waqar Bilal',\n",
        "'3033226026': 'Hamza Zia',\n",
        "'3032217073': 'Abid Zahid'\n",
        "}\n",
        "phone_numbers\n"
      ]
    },
    {
      "cell_type": "markdown",
      "metadata": {
        "id": "rU6Mby5cv52B"
      },
      "source": [
        "**Part 1**: Your objective in this assignment is to implement a “My_HashTable class” that supports the following operations:\n",
        "\n",
        "•\tInsert: Insert a new key-value pair\n",
        "\n",
        "•\tSearch: Find the value associated with a key\n",
        "\n",
        "•\tUpdate: Update the value associated with a key\n",
        "\n",
        "•\tdisplay_all: List all the keys stored in the hash table\n",
        "\n",
        "Complete the hash table implementation below by following the instructions in the comments.\n",
        "\n",
        " (30 p)"
      ]
    },
    {
      "cell_type": "code",
      "execution_count": 32,
      "metadata": {
        "colab": {
          "base_uri": "https://localhost:8080/",
          "height": 140
        },
        "id": "P80DtFICTmH6",
        "outputId": "e9783dc6-9b5f-4fd4-fa7e-514fcc07f21c"
      },
      "outputs": [],
      "source": [
        "class MyHashTable:\n",
        "    def __init__(self):\n",
        "        # 1. Create a list of size `list_size` with all values None\n",
        "        self.max_size = 4096\n",
        "        self.data_list = [None] * self.max_size\n",
        "\n",
        "    def get_hash(self,key):\n",
        "        # write simple algorithm for hashing, which can convert strings into numeric list indices.\n",
        "        # Iterate over the string, character by character Convert each character to a number using Python's built-in ord function.\n",
        "        # Add the numbers for each character to obtain the hash for the entire string\n",
        "        # Take the remainder of the result with the size of the data list\n",
        "        # Variable to store the result (updated after each iteration)\n",
        "        key_string = str(key)\n",
        "        total = 0\n",
        "        for ch in key_string:\n",
        "            total += ord(ch)\n",
        "        return total\n",
        "\n",
        "\n",
        "    def get_index(self, key):\n",
        "        # Take the remainder of the result with the size of the data list and return the index of the list\n",
        "        return self.get_hash(key) % self.max_size\n",
        "\n",
        "    def insert(self, key, value):\n",
        "        # 1. Find the index for the key using get_index\n",
        "        i = self.get_index(key)\n",
        "\n",
        "        # 2. Store the key-value pair at the right index\n",
        "        self.data_list[i] = (key, value)\n",
        "\n",
        "\n",
        "    def search(self, key):\n",
        "        # 1. Find the index for the key using get_index\n",
        "        i = self.get_index(key)\n",
        "\n",
        "\n",
        "        # 2. Retrieve the data stored at the index\n",
        "        pair = self.data_list[i]\n",
        "\n",
        "\n",
        "        # 3. Return the value if found, else return None\n",
        "        if pair is not None and pair[0] == key:\n",
        "            return pair[1]\n",
        "        return None\n",
        "\n",
        "    def update(self, key, value):\n",
        "        # 1. Find the index for the key using get_index\n",
        "        i = self.get_index(key)\n",
        "\n",
        "\n",
        "        # 2. Store the new key-value pair at the right index\n",
        "        self.data_list[i] = (key, value)\n",
        "\n",
        "    def display_all(self):\n",
        "        # 1. Extract the key from each key-value pair\n",
        "        keys = []\n",
        "        for entry in self.data_list:\n",
        "            if entry is not None:\n",
        "                keys.append(entry[0])\n",
        "                print(entry)\n",
        "\n",
        "        return keys"
      ]
    },
    {
      "cell_type": "markdown",
      "metadata": {
        "id": "XQcugutuwQyy"
      },
      "source": [
        "**Part2:** Read the phonebook CSV file and store the key/value data in the hashtable object created in the “My_HashTable class”, hashtable size is : max_size =4096\n",
        "\n",
        "* take phone column as the key\n",
        "* take the name column as the value\n",
        "\n",
        " (10 p)"
      ]
    },
    {
      "cell_type": "code",
      "execution_count": 33,
      "metadata": {
        "id": "q3-Q1_h4mxTo"
      },
      "outputs": [
        {
          "name": "stdout",
          "output_type": "stream",
          "text": [
            "('', '')\n",
            "('3316412003', 'Waqar Bilal')\n",
            "('3033226026', 'Hamza Zia')\n",
            "('3032217073', 'Abid Zahid')\n",
            "('3075752000', 'Ahmad Ahmad')\n",
            "('3071175240', 'Abdul Muhammad')\n",
            "('3203719600', 'Abid Ikram')\n",
            "('3151622147', 'Youshay Danish')\n",
            "('3408208260', 'Aijaz Farid')\n",
            "('3271121584', 'Azhar Osman')\n",
            "('3270327515', 'Samina Hamid')\n",
            "('3452526900', 'Aziz Junaid')\n",
            "('3453607630', 'Murad Noman')\n",
            "('3165038372', 'Rimsha Jawed')\n",
            "('3360551538', 'Rashi Asif')\n",
            "('3378142921', 'Asif Abdal')\n",
            "('3002559386', 'Zainab Arif')\n",
            "('3472311597', 'Sanaullah Mushtaq')\n",
            "('3312687616', 'Youshay Ayaz')\n",
            "('3275487332', 'Zainab Ayaz')\n",
            "('3180557367', 'AkbarAkmal Iqbal')\n",
            "('3323465497', 'Sajjal Ajmal')\n",
            "('3470369744', 'Samina Aijaz')\n",
            "('3485763174', 'Samina Aijaz')\n",
            "('3432638992', 'Afzal Ali')\n",
            "('3197955542', 'Dawood Danish')\n",
            "('3253791489', 'Yasin Rimsha')\n",
            "('3472583974', 'Azeemi Sanaullah')\n",
            "('3465594584', 'Imran Raoof')\n",
            "('3354577686', 'Noman Fahad')\n",
            "('3431749978', 'Samina Amir')\n",
            "('3194869349', 'Ata Abid')\n",
            "('3393796971', 'Yasin AkbarAkmal')\n",
            "('3279683578', 'Dawood Habib')\n",
            "('3209967869', 'Kamran Abdal')\n",
            "('3298764778', 'Raj Nawaz')\n",
            "('3276698958', 'AkbarAkmal Habib')\n"
          ]
        },
        {
          "data": {
            "text/plain": [
              "37"
            ]
          },
          "execution_count": 33,
          "metadata": {},
          "output_type": "execute_result"
        }
      ],
      "source": [
        "import csv\n",
        "\n",
        "ht_csv = MyHashTable()\n",
        "\n",
        "with open(\"Phonebook.csv\", newline=\"\", encoding=\"utf-8\") as f:\n",
        "    reader = csv.DictReader(f, skipinitialspace=True)\n",
        "    for row in reader:\n",
        "        phone = row[\"phone\"].strip()\n",
        "        name = (row.get(\"name\") or row.get(\" name\") or \"\").strip()\n",
        "        ht_csv.insert(phone, name)\n",
        "\n",
        "len(ht_csv.display_all())"
      ]
    },
    {
      "cell_type": "markdown",
      "metadata": {
        "id": "K3GUcD6UwZbj"
      },
      "source": [
        "**Part 3:** try to add these two new data into the created hashtable:\n",
        "\n",
        "phone_number_1 = '123456789', name_1 = 'UiS'\n",
        "\n",
        "phone_number_2 = '987654321', name_2 = 'NTNU'\n",
        "\n",
        "\n",
        "•\tExplain what happened there when you add the second number???\n",
        "\n",
        " (10 p)\n",
        "\n",
        "\n"
      ]
    },
    {
      "cell_type": "code",
      "execution_count": 35,
      "metadata": {
        "id": "IoLYiV2bm-Z3"
      },
      "outputs": [
        {
          "data": {
            "text/plain": [
              "('UiS', None, 'NTNU')"
            ]
          },
          "execution_count": 35,
          "metadata": {},
          "output_type": "execute_result"
        }
      ],
      "source": [
        "phone_number_1 = '123456789'\n",
        "name_1 = 'UiS'\n",
        "\n",
        "phone_number_2 = '987654321'\n",
        "name_2 = 'NTNU'\n",
        "\n",
        "\n",
        "# insert the first key\n",
        "ht_csv.insert(phone_number_1, name_1)\n",
        "first_before = ht_csv.search(phone_number_1)\n",
        "\n",
        "# insert a colliding key (these two sum to the same hash)\n",
        "ht_csv.insert(phone_number_2, name_2)\n",
        "\n",
        "# check the new and old keys\n",
        "first_after = ht_csv.search(phone_number_1)\n",
        "second_value = ht_csv.search(phone_number_2)\n",
        "\n",
        "(first_before, first_after, second_value)\n",
        "\n",
        "\n",
        "# The first value was there before, but after inserting the second, the first lookup returns None. \n",
        "# That is because both keys hash to the same index, and with no collision handling, the second write overwrites the slot.\n"
      ]
    },
    {
      "cell_type": "markdown",
      "metadata": {
        "id": "QgTGT20KbQRS"
      },
      "source": [
        "**Part 4:**\n",
        "Handling Collisions with Linear Probing: As you might have wondered, multiple keys can have the same hash.\n",
        "\n",
        "Data stored against one key may override the data stored against another, if they have the same hash.\n",
        "\n",
        "* So Define a function called get_valid_index, which starts searching the data list from the index determined by the hashing function get_index and returns the first index which is either empty or contains a key-value pair matching the given key. Here you implement the linear probing method to find the available slot and return the index.\n",
        "\n",
        "\n",
        "\n",
        "* now implement a hash table class with linear probing. You need to define a  \"ProbingHashTable\" class.\n",
        "* add get_valid_index function into the ProbingHashTable class\n",
        "\n",
        "* Implement all the operations for this class: Insert,Search,Update, display_all\n",
        "\n",
        "\n",
        " (40 p)\n",
        "\n",
        "\n",
        "\n"
      ]
    },
    {
      "cell_type": "code",
      "execution_count": 36,
      "metadata": {
        "id": "u0WMuRHj08o1"
      },
      "outputs": [],
      "source": [
        "def get_valid_index(data_list, key):\n",
        "    # Start with the index returned by get_index (inline the same hash used earlier)\n",
        "    def _hash(k):\n",
        "        total = 0\n",
        "        for ch in str(k):\n",
        "            total += ord(ch)\n",
        "        return total\n",
        "    \n",
        "    start = _hash(key) % len(data_list)\n",
        "    i = start\n",
        "    \n",
        "    # Linear probing: move forward until we find an empty slot (None)\n",
        "    # or the same key (to update)\n",
        "    while True:\n",
        "        entry = data_list[i]\n",
        "        if entry is None or entry[0] == key:\n",
        "            return i\n",
        "        i = (i + 1) % len(data_list)\n",
        "        if i == start:\n",
        "            raise RuntimeError(\"Hashable is full\")\n",
        "\n"
      ]
    },
    {
      "cell_type": "code",
      "execution_count": 39,
      "metadata": {
        "id": "0OTUyZtJewSI"
      },
      "outputs": [],
      "source": [
        "class ProbingHashTable:\n",
        "    def __init__(self):\n",
        "        # 1. Create a list of size `list_size` with all values None\n",
        "        self.max_size = 4096\n",
        "        self.data_list = [None] * self.max_size\n",
        "\n",
        "    def get_valid_index(self, key):\n",
        "        return get_valid_index(self.data_list, key)\n",
        "\n",
        "    def get_hash(self, key):\n",
        "        # simple sum-of-chars hash\n",
        "        total = 0\n",
        "        for ch in str(key):\n",
        "            total += ord(ch)\n",
        "        return total\n",
        "\n",
        "    def get_index(self, key):\n",
        "        # base index before probing\n",
        "        return self.get_hash(key) % self.max_size\n",
        "\n",
        "    def insert(self, key, value):\n",
        "        # 1. Find the index for the key using get_valid_index (linear probing)\n",
        "        i = self.get_valid_index(key)\n",
        "        # 2. Store the key–value pair at the right index\n",
        "        self.data_list[i] = (key, value)\n",
        "\n",
        "    def search(self, key):\n",
        "        # 1. Start at the base index using get_index\n",
        "        start = self.get_index(key)\n",
        "        i = start\n",
        "        # 2. Probe forward until empty slot (not found) or key match (found)\n",
        "        while True:\n",
        "            entry = self.data_list[i]\n",
        "            if entry is None:\n",
        "                # 3. Return None if we hit an empty slot\n",
        "                return None\n",
        "            if entry[0] == key:\n",
        "                # 3. Return the value if found\n",
        "                return entry[1]\n",
        "            i = (i + 1) % self.max_size\n",
        "            if i == start:\n",
        "                # full loop without finding it\n",
        "                return None\n",
        "\n",
        "    def update(self, key, value):\n",
        "        # 1. Find the index for the key using get_valid_index (so we update if it exists, insert if not)\n",
        "        i = self.get_valid_index(key)\n",
        "        # 2. Store the new key–value pair at the right index\n",
        "        self.data_list[i] = (key, value)\n",
        "\n",
        "    def display_all(self):\n",
        "        # 1. Extract the key from each key–value pair\n",
        "        keys = []\n",
        "        for entry in self.data_list:\n",
        "            if entry is not None:\n",
        "                keys.append(entry[0])\n",
        "                print(entry)\n",
        "        return keys"
      ]
    },
    {
      "cell_type": "markdown",
      "metadata": {
        "id": "VxEOI_aR2gED"
      },
      "source": [
        "read csv file and store the data into a hashtable object"
      ]
    },
    {
      "cell_type": "code",
      "execution_count": 40,
      "metadata": {
        "id": "uwj5k90i2oQr"
      },
      "outputs": [
        {
          "name": "stdout",
          "output_type": "stream",
          "text": [
            "('', '')\n",
            "('3000804341', 'Raja Adnan')\n",
            "('3010302950', 'Ayub Yasin')\n",
            "('3316412003', 'Waqar Bilal')\n",
            "('3013282503', 'Afzal Murad')\n",
            "('3309034240', 'Arif Ajmal')\n",
            "('3017017028', 'Abid Raj')\n",
            "('3063427140', 'Youshay Junaid')\n",
            "('3014714056', 'Salma Ata')\n",
            "('3320224466', 'Adeel Zia')\n",
            "('3241650081', 'Fahad Mushtaq')\n",
            "('3044532544', 'Kushal Tariq')\n",
            "('3137126309', 'Asif Muhammad')\n",
            "('3286153161', 'Abbas Habib')\n",
            "('3078651331', 'Iftikhar Amin')\n",
            "('3126919151', 'Abdal Osman')\n",
            "('3276355116', 'Israr Rimsha')\n",
            "('3251273836', 'Saqib Abid')\n",
            "('3127607807', 'Yasin Kamran')\n",
            "('3367068700', 'Habib Hasib')\n",
            "('3377091508', 'Maqsud Noman')\n",
            "('3360314957', 'Ikram Shahrukh')\n",
            "('3422243997', 'Murad Hamid')\n",
            "('3236950870', 'Atiq Rana')\n",
            "('3148178573', 'Fahad Abid')\n",
            "('3241847395', 'Ali Nawaz')\n",
            "('3257804078', 'Syed Dawood')\n",
            "('3229544993', 'Ali Raja')\n",
            "('3195504432', 'Yusuf Azhar')\n",
            "('3120657560', 'AkbarAkmal Syed')\n",
            "('3199758038', 'Shoaib Rana')\n",
            "('3219639849', 'Faiza Zahid')\n",
            "('3235143279', 'Liaquat Nadeem')\n",
            "('3341989366', 'Youshay Nadeem')\n",
            "('3144317273', 'Kamran Salma')\n",
            "('3279683578', 'Dawood Habib')\n",
            "('3157678210', 'Shoaib Abdal')\n",
            "('3178201708', 'Harib Hamza')\n",
            "('3101192767', 'Iftikhar Mahboob')\n",
            "('3177110573', 'Sheik Tariq')\n",
            "('3000880773', 'Ata Ayaz')\n",
            "('3363437751', 'Hamid Kamran')\n",
            "('3319099197', 'Liaquat Ahsan')\n",
            "('3311496359', 'Afzal Imran')\n",
            "('3156623161', 'Fahad Arif')\n",
            "('3262546196', 'Salma Imran')\n",
            "('3362898066', 'Aziz Zeeshan')\n",
            "('3357125801', 'Adeel AkbarAkmal')\n",
            "('3242792592', 'Junaid Sheik')\n",
            "('3111999073', 'Iftikhar Habib')\n",
            "('3271372858', 'Tariq Hamza')\n",
            "('3355001749', 'Nadeem Waqar')\n",
            "('3032217073', 'Abid Zahid')\n",
            "('3356742159', 'Samina Kushal')\n",
            "('3431323902', 'Raoof Hamid')\n",
            "('3486676745', 'Raoof Sheik')\n",
            "('3173856822', 'Raj Ayaz')\n",
            "('3426799752', 'AkbarAkmal Ali')\n",
            "('3447675312', 'Abdal Shoaib')\n",
            "('3192660294', 'Sameen Saqib')\n",
            "('3420043494', 'Iftikhar Iftikhar')\n",
            "('3245324029', 'Shahab Ikram')\n",
            "('3141846445', 'Habib Samina')\n",
            "('3065526182', 'Zeeshan Azmat')\n",
            "('3196231431', 'Ajmal Fatima')\n",
            "('3068948274', 'Zahid Iftikhar')\n",
            "('3082502787', 'Jawed Samina')\n",
            "('3189394167', 'Fahad Dawood')\n",
            "('3228744685', 'Raoof Afzal')\n",
            "('3296636031', 'Youshay Saqib')\n",
            "('3112271969', 'Mahboob Saqib')\n",
            "('3233607464', 'Murad Danish')\n",
            "('3334620406', 'Habib Hakim')\n",
            "('3430033629', 'Dawood Hakim')\n",
            "('3410533069', 'Kushal Saqlain')\n",
            "('3271416458', 'Kushal Jawed')\n",
            "('3069194100', 'Ahmad Nadeem')\n",
            "('3454429225', 'Liaquat Shadir')\n",
            "('3168314291', 'Hakim Hamid')\n",
            "('3058316776', 'Imran Ahsan')\n",
            "('3138090555', 'Amin Imran')\n",
            "('3431535939', 'Imran AkbarAkmal')\n",
            "('3336978711', 'Ahsan Liaquat')\n",
            "('3404974452', 'Atiq Hasib')\n",
            "('3108027676', 'Samina Aijaz')\n",
            "('3244027271', 'Hamid Yusuf')\n",
            "('3109419954', 'Aijaz Jamshed')\n",
            "('3329656822', 'Junaid Nawaz')\n",
            "('3047132734', 'Tanvir Jawed')\n",
            "('3288756124', 'Iftikhar Murad')\n",
            "('3116471966', 'Amir Ayub')\n",
            "('3320811797', 'Ashraf Nadeem')\n",
            "('3046843296', 'Waqar Tariq')\n",
            "('3080376539', 'Farid Iqbal')\n",
            "('3309910655', 'Sheik Yasin')\n",
            "('3406413980', 'Harib Dawood')\n",
            "('3053861500', 'Tariq Raj')\n",
            "('3105614786', 'Atiq Danish')\n",
            "('3370037490', 'Tanvir Sameen')\n",
            "('3405286197', 'Afzal Azmat')\n",
            "('3281702610', 'Hakim Raja')\n",
            "('3059223755', 'Samina Tasneem')\n",
            "('3004477495', 'Zahid Ikram')\n",
            "('3109289282', 'Ahmad Zia')\n",
            "('3448773488', 'Atiq Zeeshan')\n",
            "('3447956752', 'Kushal Kamran')\n",
            "('3418271405', 'Zahid Kamran')\n",
            "('3336338072', 'Israr Zia')\n",
            "('3404071724', 'Imran Abid')\n",
            "('3011162979', 'Kamran Saqib')\n",
            "('3061674314', 'Abdal Tasneem')\n",
            "('3499650048', 'Ashraf Azhar')\n",
            "('3365995343', 'Yasin Osman')\n",
            "('3366703154', 'Aziz Ashraf')\n",
            "('3143092593', 'Kamran Fatima')\n",
            "('3268842139', 'Rashi Abbas')\n",
            "('3194004973', 'Hamid Shahab')\n",
            "('3194201346', 'Rohan Jawed')\n",
            "('3209967869', 'Kamran Abdal')\n",
            "('3429001990', 'Raj Ajmal')\n",
            "('3191314181', 'Iqbal AkbarAkmal')\n",
            "('3480950714', 'Atiq Shahrukh')\n",
            "('3490921894', 'Tasneem Farid')\n",
            "('3295570772', 'Hamza Sanaullah')\n",
            "('3472583974', 'Azeemi Sanaullah')\n",
            "('3290331811', 'Iftikhar Rashi')\n",
            "('3323829843', 'Zeeshan Nawaz')\n",
            "('3408208260', 'Aijaz Farid')\n",
            "('3263343339', 'Tanvir Azeemi')\n",
            "('3160835283', 'Ajmal Aziz')\n",
            "('3437902477', 'Liaquat Kamran')\n",
            "('3113843522', 'Samina Hasib')\n",
            "('3328023216', 'Salma Tasneem')\n",
            "('3102599235', 'Tariq Fatima')\n",
            "('3393796971', 'Yasin AkbarAkmal')\n",
            "('3367428132', 'Arif Tariq')\n",
            "('3018304830', 'Shadir Iftikhar')\n",
            "('3105649240', 'Arif Shahrukh')\n",
            "('3162705362', 'Fatima Azhar')\n",
            "('3012119742', 'Shafi Afzal')\n",
            "('3316098264', 'Maqsud Muhammad')\n",
            "('3389071342', 'Habib AkbarAkmal')\n",
            "('3194869349', 'Ata Abid')\n",
            "('3151622147', 'Youshay Danish')\n",
            "('3276698958', 'AkbarAkmal Habib')\n",
            "('3412141546', 'Sajjal Rimsha')\n",
            "('3310581356', 'Iqbal Yusuf')\n",
            "('3448081680', 'Rashi Ata')\n",
            "('3197955542', 'Dawood Danish')\n",
            "('3223094533', 'Aziz Adnan')\n",
            "('3378766687', 'Iqbal Ahsan')\n",
            "('3452526900', 'Aziz Junaid')\n",
            "('3453607630', 'Murad Noman')\n",
            "('3369550652', 'Liaquat Azeemi')\n",
            "('3465594584', 'Imran Raoof')\n",
            "('3389212133', 'Tariq Youshay')\n",
            "('3154596430', 'Samina Nawaz')\n",
            "('3458206587', 'Ikram Hakim')\n",
            "('3397777902', 'Tariq Sajjal')\n",
            "('3048181770', 'Sheik Zainab')\n",
            "('3285440030', 'Shoaib Samina')\n",
            "('3142788190', 'Maqsud Rimsha')\n",
            "('3184374918', 'Osman Adeel')\n",
            "('3431749978', 'Samina Amir')\n",
            "('3266242690', 'Murad Saqib')\n",
            "('3323465497', 'Sajjal Ajmal')\n",
            "('3298764778', 'Raj Nawaz')\n",
            "('3396277641', 'Kushal Amir')\n",
            "('3485763174', 'Samina Aijaz')\n",
            "('3429798147', 'AkbarAkmal Aijaz')\n",
            "('3390765035', 'Farid Iqbal')\n",
            "('3142825378', 'Kamran Rashi')\n",
            "('3139436555', 'Atif Muhammad')\n",
            "('3324392432', 'Youshay Hasib')\n",
            "('3472311597', 'Sanaullah Mushtaq')\n",
            "('3271121584', 'Azhar Osman')\n",
            "('3270402542', 'Imran Sanaullah')\n",
            "('3432638992', 'Afzal Ali')\n",
            "('3033226026', 'Hamza Zia')\n",
            "('3203719600', 'Abid Ikram')\n",
            "('3313735514', 'Afzal Ali')\n",
            "('3280228136', 'Maqsud Sameen')\n",
            "('3354577686', 'Noman Fahad')\n",
            "('3351294518', 'Raoof Liaquat')\n",
            "('3137022273', 'Abdal Salma')\n",
            "('3253791489', 'Yasin Rimsha')\n",
            "('3292849406', 'Hamza Ata')\n",
            "('3312687616', 'Youshay Ayaz')\n",
            "('3013392792', 'Asif Zainab')\n",
            "('3470369744', 'Samina Aijaz')\n",
            "('3360551538', 'Rashi Asif')\n",
            "('3071175240', 'Abdul Muhammad')\n",
            "('3396463532', 'Atiq Jamshed')\n",
            "('3165038372', 'Rimsha Jawed')\n",
            "('3275487332', 'Zainab Ayaz')\n",
            "('3075752000', 'Ahmad Ahmad')\n",
            "('3378142921', 'Asif Abdal')\n",
            "('3270327515', 'Samina Hamid')\n",
            "('3002559386', 'Zainab Arif')\n",
            "('3180557367', 'AkbarAkmal Iqbal')\n"
          ]
        },
        {
          "data": {
            "text/plain": [
              "200"
            ]
          },
          "execution_count": 40,
          "metadata": {},
          "output_type": "execute_result"
        }
      ],
      "source": [
        "# write your code here\n",
        "import csv\n",
        "\n",
        "pt = ProbingHashTable()  # use the probing table for collision handling\n",
        "\n",
        "with open(\"Phonebook.csv\", newline=\"\", encoding=\"utf-8\") as f:\n",
        "    reader = csv.DictReader(f, skipinitialspace=True)\n",
        "    for row in reader:\n",
        "        phone = row[\"phone\"].strip()\n",
        "        name = (row.get(\"name\") or row.get(\" name\") or \"\").strip()\n",
        "        pt.insert(phone, name)\n",
        "\n",
        "len(pt.display_all())  # should be >> 37 now"
      ]
    },
    {
      "cell_type": "markdown",
      "metadata": {
        "id": "DSpXs-ly2qXr"
      },
      "source": [
        "Try to add two new numbers and test\n",
        " (10 p)"
      ]
    },
    {
      "cell_type": "code",
      "execution_count": 41,
      "metadata": {
        "colab": {
          "base_uri": "https://localhost:8080/"
        },
        "id": "9cAgEJ_tk1vg",
        "outputId": "2c74b842-eb41-40ab-f022-285c45d56b82"
      },
      "outputs": [
        {
          "data": {
            "text/plain": [
              "True"
            ]
          },
          "execution_count": 41,
          "metadata": {},
          "output_type": "execute_result"
        }
      ],
      "source": [
        "phone_number_1 = '123456789'\n",
        "name_1 = 'UiS'\n",
        "\n",
        "phone_number_2 = '987654321'\n",
        "name_2 = 'NTNU'\n",
        "\n",
        "#insert the first key\n",
        "pt.insert(phone_number_1, name_1)\n",
        "\n",
        "\n",
        "# Insert a colliding key\n",
        "pt.insert(phone_number_2, name_2)\n",
        "\n",
        "# Check the new and old keys\n",
        "ok = (pt.search(phone_number_1) == name_1) and (pt.search(phone_number_2) == name_2)\n",
        "ok\n",
        "\n"
      ]
    }
  ],
  "metadata": {
    "colab": {
      "provenance": []
    },
    "kernelspec": {
      "display_name": ".venv",
      "language": "python",
      "name": "python3"
    },
    "language_info": {
      "codemirror_mode": {
        "name": "ipython",
        "version": 3
      },
      "file_extension": ".py",
      "mimetype": "text/x-python",
      "name": "python",
      "nbconvert_exporter": "python",
      "pygments_lexer": "ipython3",
      "version": "3.13.7"
    }
  },
  "nbformat": 4,
  "nbformat_minor": 0
}
