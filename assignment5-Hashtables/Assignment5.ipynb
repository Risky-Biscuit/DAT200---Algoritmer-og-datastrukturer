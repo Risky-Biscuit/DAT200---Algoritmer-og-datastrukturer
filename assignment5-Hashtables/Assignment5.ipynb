{
  "nbformat": 4,
  "nbformat_minor": 0,
  "metadata": {
    "colab": {
      "provenance": []
    },
    "kernelspec": {
      "name": "python3",
      "display_name": "Python 3"
    },
    "language_info": {
      "name": "python"
    }
  },
  "cells": [
    {
      "cell_type": "markdown",
      "source": [
        "# Assignment #5\n"
      ],
      "metadata": {
        "id": "lRW-8EDMZcV6"
      }
    },
    {
      "cell_type": "markdown",
      "source": [
        "Hash Tables in Python\n",
        "\n",
        "\n",
        "In this assignment, you will create Python dictionaries from scratch using a data structure called hash table. For example, here's a dictionary for storing and retrieving phone numbers using people's numbers."
      ],
      "metadata": {
        "id": "Nb-XeviMvyP7"
      }
    },
    {
      "cell_type": "code",
      "source": [
        "\n",
        "phone_numbers = {\n",
        "  '3316412003': 'Waqar Bilal',\n",
        "'3033226026': 'Hamza Zia',\n",
        "'3032217073': 'Abid Zahid'\n",
        "}\n",
        "phone_numbers\n"
      ],
      "metadata": {
        "colab": {
          "base_uri": "https://localhost:8080/"
        },
        "id": "3NybY89AvwAw",
        "outputId": "80b3bca1-688a-4127-c6bd-a685e53ba918"
      },
      "execution_count": null,
      "outputs": [
        {
          "output_type": "execute_result",
          "data": {
            "text/plain": [
              "{'3316412003': 'Waqar Bilal',\n",
              " '3033226026': 'Hamza Zia',\n",
              " '3032217073': 'Abid Zahid'}"
            ]
          },
          "metadata": {},
          "execution_count": 200
        }
      ]
    },
    {
      "cell_type": "markdown",
      "source": [
        "**Part 1**: Your objective in this assignment is to implement a “My_HashTable class” that supports the following operations:\n",
        "\n",
        "•\tInsert: Insert a new key-value pair\n",
        "\n",
        "•\tSearch: Find the value associated with a key\n",
        "\n",
        "•\tUpdate: Update the value associated with a key\n",
        "\n",
        "•\tdisplay_all: List all the keys stored in the hash table\n",
        "\n",
        "Complete the hash table implementation below by following the instructions in the comments.\n",
        "\n",
        " (30 p)"
      ],
      "metadata": {
        "id": "rU6Mby5cv52B"
      }
    },
    {
      "cell_type": "code",
      "source": [
        "class MyHashTable:\n",
        "    def __init__(self):\n",
        "\n",
        "        # 1. Create a list of size `list_size` with all values None\n",
        "        max_size = 4096\n",
        "\n",
        "    def get_hash(self,key):\n",
        "        # write simple algorithm for hashing, which can convert strings into numeric list indices.\n",
        "        # Iterate over the string, character by character Convert each character to a number using Python's built-in ord function.\n",
        "        # Add the numbers for each character to obtain the hash for the entire string\n",
        "        # Take the remainder of the result with the size of the data list\n",
        "        # Variable to store the result (updated after each iteration)\n",
        "\n",
        "\n",
        "    def get_index(self, key):\n",
        "        # Take the remainder of the result with the size of the data list and return the index of the list\n",
        "\n",
        "    def insert(self, key, value):\n",
        "        # 1. Find the index for the key using get_index\n",
        "\n",
        "        # 2. Store the key-value pair at the right index\n",
        "\n",
        "\n",
        "    def search(self, key):\n",
        "        # 1. Find the index for the key using get_index\n",
        "\n",
        "\n",
        "        # 2. Retrieve the data stored at the index\n",
        "\n",
        "\n",
        "        # 3. Return the value if found, else return None\n",
        "\n",
        "    def update(self, key, value):\n",
        "        # 1. Find the index for the key using get_index\n",
        "\n",
        "\n",
        "        # 2. Store the new key-value pair at the right index\n",
        "\n",
        "    def display_all(self):\n",
        "        # 1. Extract the key from each key-value pair\n"
      ],
      "metadata": {
        "colab": {
          "base_uri": "https://localhost:8080/",
          "height": 140
        },
        "id": "P80DtFICTmH6",
        "outputId": "e9783dc6-9b5f-4fd4-fa7e-514fcc07f21c"
      },
      "execution_count": null,
      "outputs": [
        {
          "output_type": "error",
          "ename": "IndentationError",
          "evalue": "ignored",
          "traceback": [
            "\u001b[0;36m  File \u001b[0;32m\"<ipython-input-202-35c05a6836f4>\"\u001b[0;36m, line \u001b[0;32m8\u001b[0m\n\u001b[0;31m    def get_hash(self,key):\u001b[0m\n\u001b[0m    ^\u001b[0m\n\u001b[0;31mIndentationError\u001b[0m\u001b[0;31m:\u001b[0m expected an indented block after function definition on line 2\n"
          ]
        }
      ]
    },
    {
      "cell_type": "markdown",
      "source": [
        "**Part2:** Read the phonebook CSV file and store the key/value data in the hashtable object created in the “My_HashTable class”, hashtable size is : max_size =4096\n",
        "\n",
        "* take phone column as the key\n",
        "* take the name column as the value\n",
        "\n",
        " (10 p)"
      ],
      "metadata": {
        "id": "XQcugutuwQyy"
      }
    },
    {
      "cell_type": "code",
      "source": [
        "# write your code here"
      ],
      "metadata": {
        "id": "q3-Q1_h4mxTo"
      },
      "execution_count": null,
      "outputs": []
    },
    {
      "cell_type": "markdown",
      "source": [
        "**Part 3:** try to add these two new data into the created hashtable:\n",
        "\n",
        "phone_number_1 = '123456789', name_1 = 'UiS'\n",
        "\n",
        "phone_number_2 = '987654321', name_2 = 'NTNU'\n",
        "\n",
        "\n",
        "•\tExplain what happened there when you add the second number???\n",
        "\n",
        " (10 p)\n",
        "\n",
        "\n"
      ],
      "metadata": {
        "id": "K3GUcD6UwZbj"
      }
    },
    {
      "cell_type": "code",
      "source": [
        "phone_number_1 = '123456789'\n",
        "name_1 = 'UiS'\n",
        "\n",
        "phone_number_2 = '987654321'\n",
        "name_2 = 'NTNU'\n"
      ],
      "metadata": {
        "id": "IoLYiV2bm-Z3"
      },
      "execution_count": null,
      "outputs": []
    },
    {
      "cell_type": "markdown",
      "source": [
        "**Part 4:**\n",
        "Handling Collisions with Linear Probing: As you might have wondered, multiple keys can have the same hash.\n",
        "\n",
        "Data stored against one key may override the data stored against another, if they have the same hash.\n",
        "\n",
        "* So Define a function called get_valid_index, which starts searching the data list from the index determined by the hashing function get_index and returns the first index which is either empty or contains a key-value pair matching the given key. Here you implement the linear probing method to find the available slot and return the index.\n",
        "\n",
        "\n",
        "\n",
        "* now implement a hash table class with linear probing. You need to define a  \"ProbingHashTable\" class.\n",
        "* add get_valid_index function into the ProbingHashTable class\n",
        "\n",
        "* Implement all the operations for this class: Insert,Search,Update, display_all\n",
        "\n",
        "\n",
        " (40 p)\n",
        "\n",
        "\n",
        "\n"
      ],
      "metadata": {
        "id": "QgTGT20KbQRS"
      }
    },
    {
      "cell_type": "code",
      "source": [
        "def get_valid_index(data_list, key):\n",
        "    # Start with the index returned by get_index\n",
        "\n"
      ],
      "metadata": {
        "id": "u0WMuRHj08o1"
      },
      "execution_count": null,
      "outputs": []
    },
    {
      "cell_type": "code",
      "source": [
        "class ProbingHashTable:\n",
        "    def __init__(self):\n",
        "\n",
        "        # 1. Create a list of size `list_size` with all values None\n",
        "        max_size = 4096\n",
        "\n",
        "\n",
        "    def get_valid_index(self,key):\n",
        "\n",
        "\n",
        "\n",
        "    def get_hash(self,key):\n",
        "        # write simple algorithm for hashing, which can convert strings into numeric list indices.\n",
        "        # Iterate over the string, character by character Convert each character to a number using Python's built-in ord function.\n",
        "        # Add the numbers for each character to obtain the hash for the entire string\n",
        "        # Take the remainder of the result with the size of the data list\n",
        "        # Variable to store the result (updated after each iteration)\n",
        "\n",
        "\n",
        "\n",
        "    def get_index(self, key):\n",
        "        # Take the remainder of the result with the size of the data list and return the index of the list\n",
        "\n",
        "\n",
        "    def insert(self, key, value):\n",
        "        # 1. Find the index for the key using get_index\n",
        "\n",
        "        # 2. Store the key-value pair at the right index\n",
        "\n",
        "\n",
        "    def search(self, key):\n",
        "        # 1. Find the index for the key using get_index\n",
        "\n",
        "\n",
        "        # 2. Retrieve the data stored at the index\n",
        "\n",
        "\n",
        "        # 3. Return the value if found, else return None\n",
        "\n",
        "\n",
        "    def update(self, key, value):\n",
        "        # 1. Find the index for the key using get_index\n",
        "\n",
        "\n",
        "        # 2. Store the new key-value pair at the right index\n",
        "\n",
        "\n",
        "    def display_all(self):\n",
        "        # 1. Extract the key from each key-value pair\n"
      ],
      "metadata": {
        "id": "0OTUyZtJewSI"
      },
      "execution_count": null,
      "outputs": []
    },
    {
      "cell_type": "markdown",
      "source": [
        "read csv file and store the data into a hashtable object"
      ],
      "metadata": {
        "id": "VxEOI_aR2gED"
      }
    },
    {
      "cell_type": "code",
      "source": [
        "# write your code here"
      ],
      "metadata": {
        "id": "uwj5k90i2oQr"
      },
      "execution_count": null,
      "outputs": []
    },
    {
      "cell_type": "markdown",
      "source": [
        "Try to add two new numbers and test\n",
        " (10 p)"
      ],
      "metadata": {
        "id": "DSpXs-ly2qXr"
      }
    },
    {
      "cell_type": "code",
      "source": [
        "phone_number_1 = '123456789'\n",
        "name_1 = 'UiS'\n",
        "\n",
        "phone_number_2 = '987654321'\n",
        "name_2 = 'NTNU'\n",
        "\n",
        "#insert the first key\n",
        "\n",
        "\n",
        "\n",
        "# Insert a colliding key\n",
        "\n",
        "\n",
        "# Check the new and old keys\n",
        "\n",
        "\n"
      ],
      "metadata": {
        "colab": {
          "base_uri": "https://localhost:8080/"
        },
        "id": "9cAgEJ_tk1vg",
        "outputId": "2c74b842-eb41-40ab-f022-285c45d56b82"
      },
      "execution_count": null,
      "outputs": [
        {
          "output_type": "execute_result",
          "data": {
            "text/plain": [
              "True"
            ]
          },
          "metadata": {},
          "execution_count": 197
        }
      ]
    }
  ]
}